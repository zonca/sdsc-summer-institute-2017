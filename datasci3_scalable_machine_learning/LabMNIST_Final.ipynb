{
 "cells": [
  {
   "cell_type": "code",
   "execution_count": 35,
   "metadata": {},
   "outputs": [
    {
     "name": "stdout",
     "output_type": "stream",
     "text": [
      "import done\n",
      "04:55:55\n"
     ]
    }
   ],
   "source": [
    "#  MNIST tutorial (handwritten printed digits recognition tutorial)\n",
    "#  modified from\n",
    "#  https://elitedatascience.com/keras-tutorial-deep-learning-in-python\n",
    "#  for SDSC SI2017\n",
    "# \n",
    "# note, hit >| to run, if an asterik is shown in the In[*] prompt you can interrupt the \n",
    "#       running process by selecting Kernel-> interrupt\n",
    "\n",
    "# ----------- IMPORT STATEMENTS ---------------\n",
    "import numpy as np\n",
    "np.random.seed(1)  # for reproducibility\n",
    "import time\n",
    "import matplotlib.pyplot as plt      #These provide matlab type of plotting functions\n",
    "import matplotlib.image as mpimg\n",
    "\n",
    "from keras.models import Sequential               #Sequential models are the standard stack of layers models\n",
    "from keras.layers import Dense, Dropout, Activation, Flatten   #These are core layer specification functions\n",
    "from keras.layers import Convolution2D, MaxPooling2D           #These are convolution layer functions\n",
    "from keras.utils import np_utils                         #Some utilities\n",
    "from keras import optimizers                             #For training algorithm\n",
    "#---------------------------------------------\n",
    "print('import done')\n",
    "print (time.strftime(\"%H:%M:%S\"))"
   ]
  },
  {
   "cell_type": "code",
   "execution_count": 38,
   "metadata": {},
   "outputs": [
    {
     "name": "stdout",
     "output_type": "stream",
     "text": [
      "(5000, 28, 28)\n"
     ]
    },
    {
     "data": {
      "text/plain": [
       "<matplotlib.figure.Figure at 0x2ad45d04f2e8>"
      ]
     },
     "metadata": {},
     "output_type": "display_data"
    },
    {
     "data": {
      "image/png": "[encoded data removed]",
      "text/plain": [
       "<matplotlib.figure.Figure at 0x2ad45d03ccc0>"
      ]
     },
     "metadata": {},
     "output_type": "display_data"
    },
    {
     "name": "stdout",
     "output_type": "stream",
     "text": [
      "img load done\n",
      "04:56:34\n"
     ]
    }
   ],
   "source": [
    "#--------------- LOAD and PREPARE DATA STATEMENTS ----------------\n",
    "# Load some numpy arrays that have the MNIST data\n",
    "#  (these are subsets extracted from the MNIST data set in Keras)\n",
    "X_train=np.load('X_train5k.npy')\n",
    "Y_train=np.load('Y_train5k.npy')\n",
    "X_test =np.load('X_test.npy')\n",
    "Y_test =np.load('Y_test.npy')\n",
    "\n",
    "print(X_train.shape)     #review the dimensions Note python3 uses print(X..) python 2 uses print X...\n",
    "\n",
    "#save a few training images with the label in the file name \n",
    "from PIL import Image\n",
    "for i in range(0,3):\n",
    "   im = Image.fromarray(X_train[i,:,:])\n",
    "   im.save(\"Xtrain_num\"+str(i)+\"_cat_\"+str(Y_train[i])+\".jpeg\")\n",
    "\n",
    "plt.figure()\n",
    "plt.imshow(im,'gray')\n",
    "plt.show()\n",
    "    \n",
    "print('img load done')\n",
    "print (time.strftime(\"%H:%M:%S\"))"
   ]
  },
  {
   "cell_type": "code",
   "execution_count": 36,
   "metadata": {},
   "outputs": [
    {
     "data": {
      "text/plain": [
       "<matplotlib.figure.Figure at 0x2ad45d04f2e8>"
      ]
     },
     "execution_count": 36,
     "metadata": {},
     "output_type": "execute_result"
    }
   ],
   "source": [
    "plt.figure()"
   ]
  },
  {
   "cell_type": "code",
   "execution_count": 39,
   "metadata": {},
   "outputs": [
    {
     "name": "stdout",
     "output_type": "stream",
     "text": [
      "(5000, 1, 28, 28)\n",
      "prep done\n",
      "04:56:47\n"
     ]
    }
   ],
   "source": [
    "# --------- Reshape input data ------------\n",
    "#  b/c Keras expects N-3D images (ie 4D matrix)\n",
    "X_train = X_train.reshape(X_train.shape[0], 1, 28, 28)\n",
    "X_test  = X_test.reshape(X_test.shape[0],   1, 28, 28)\n",
    "\n",
    "#To confirm, we can print X_train's dimensions again:\n",
    "print(X_train.shape)\n",
    "\n",
    "#convert and put into 0-1 range\n",
    "X_train  = X_train.astype('float32')\n",
    "X_test   = X_test.astype('float32')\n",
    "X_train /= 255\n",
    "X_test  /= 255\n",
    "\n",
    "# Convert 1-dimensional class arrays to 10-dimensional class matrices\n",
    "Y_train = np_utils.to_categorical(Y_train, 10)\n",
    "Y_test  = np_utils.to_categorical(Y_test,  10)\n",
    "\n",
    "# ------------- End loading and preparing data --------------\n",
    "np.amax(X_train)   #this gets the max value over a flattened numpy array\n",
    "print('prep done')\n",
    "print (time.strftime(\"%H:%M:%S\"))"
   ]
  },
  {
   "cell_type": "code",
   "execution_count": 50,
   "metadata": {},
   "outputs": [
    {
     "name": "stdout",
     "output_type": "stream",
     "text": [
      "modeldef and first conv layer done\n",
      "05:00:36\n"
     ]
    }
   ],
   "source": [
    "# --------------Set up Model ---------------------\n",
    "mymodel = Sequential()\n",
    "\n",
    "numfilters = 16\n",
    "#add convolution layer of 32 or 16 or __ filters, 3x3 each, \n",
    "#     input shape for 1 image, channels refers to color dimension of input image\n",
    "mymodel.add(Convolution2D(numfilters, (3,3),strides=1,  data_format=\"channels_first\",activation='relu', input_shape=(1,28,28))) \n",
    " \n",
    "    \n",
    "print('modeldef and first conv layer done')\n",
    "print (time.strftime(\"%H:%M:%S\"))"
   ]
  },
  {
   "cell_type": "code",
   "execution_count": 51,
   "metadata": {},
   "outputs": [
    {
     "data": {
      "text/plain": [
       "<tf.Tensor 'conv2d_8/Relu:0' shape=(?, 16, 20, 20) dtype=float32>"
      ]
     },
     "execution_count": 51,
     "metadata": {},
     "output_type": "execute_result"
    }
   ],
   "source": [
    "mymodel.layers[0].output # use this to check sizes of output  "
   ]
  },
  {
   "cell_type": "code",
   "execution_count": 52,
   "metadata": {},
   "outputs": [
    {
     "name": "stdout",
     "output_type": "stream",
     "text": [
      "done adding 2nd conv layer\n",
      "05:00:43\n"
     ]
    }
   ],
   "source": [
    "#-----------------Now add more Convolution layers\n",
    "mymodel.add(Convolution2D(numfilters, (3, 3), activation='relu'))\n",
    "mymodel.add(MaxPooling2D(pool_size=(2,2))) #get Max over 2D region,and slide\n",
    "#mymodel.layers[2].output   #size of output layer for max pooling\n",
    "\n",
    "#optional: try running with and without Dropout\n",
    "mymodel.add(Dropout(0.25))\n",
    " \n",
    "mymodel.add(Flatten())            #reorganize 2DxFilters output into 1D\n",
    "print('done adding 2nd conv layer')\n",
    "print (time.strftime(\"%H:%M:%S\"))"
   ]
  },
  {
   "cell_type": "code",
   "execution_count": 53,
   "metadata": {},
   "outputs": [
    {
     "name": "stdout",
     "output_type": "stream",
     "text": [
      "assemble model done\n",
      "05:00:45\n"
     ]
    }
   ],
   "source": [
    "#----------------Now add final classification layers\n",
    "mymodel.add(Dense(128, activation='relu'))  #enter number of hidden units (no good rule, but start with ~ num of previous output) \n",
    "mymodel.add(Dropout(0.5))\n",
    "mymodel.add(Dense(10, activation='softmax'))\n",
    "print('assemble model done')\n",
    "print (time.strftime(\"%H:%M:%S\"))"
   ]
  },
  {
   "cell_type": "code",
   "execution_count": 54,
   "metadata": {},
   "outputs": [
    {
     "name": "stdout",
     "output_type": "stream",
     "text": [
      "compile model done\n",
      "05:00:47\n"
     ]
    }
   ],
   "source": [
    "# --------- Now assemble (ie compile TensorFlow commands) and run -----\n",
    "mymodel.compile(loss='categorical_crossentropy',\n",
    "               optimizer='adam',     # another option is 'sgd' \n",
    "               metrics=['accuracy'])\n",
    "print('compile model done')\n",
    "print (time.strftime(\"%H:%M:%S\"))"
   ]
  },
  {
   "cell_type": "code",
   "execution_count": 55,
   "metadata": {},
   "outputs": [
    {
     "name": "stdout",
     "output_type": "stream",
     "text": [
      "Train on 5000 samples, validate on 10000 samples\n",
      "Epoch 1/10\n",
      "5000/5000 [==============================] - 3s - loss: 1.0188 - acc: 0.6644 - val_loss: 0.3279 - val_acc: 0.9105\n",
      "Epoch 2/10\n",
      "5000/5000 [==============================] - 3s - loss: 0.3718 - acc: 0.8864 - val_loss: 0.1955 - val_acc: 0.9420\n",
      "Epoch 3/10\n",
      "5000/5000 [==============================] - 3s - loss: 0.2589 - acc: 0.9278 - val_loss: 0.1645 - val_acc: 0.9481\n",
      "Epoch 4/10\n",
      "5000/5000 [==============================] - 3s - loss: 0.2245 - acc: 0.9370 - val_loss: 0.1348 - val_acc: 0.9570\n",
      "Epoch 5/10\n",
      "5000/5000 [==============================] - 3s - loss: 0.1813 - acc: 0.9460 - val_loss: 0.1301 - val_acc: 0.9582\n",
      "Epoch 6/10\n",
      "5000/5000 [==============================] - 3s - loss: 0.1527 - acc: 0.9538 - val_loss: 0.1181 - val_acc: 0.9625\n",
      "Epoch 7/10\n",
      "5000/5000 [==============================] - 3s - loss: 0.1438 - acc: 0.9580 - val_loss: 0.1118 - val_acc: 0.9640\n",
      "Epoch 8/10\n",
      "5000/5000 [==============================] - 3s - loss: 0.1176 - acc: 0.9646 - val_loss: 0.1042 - val_acc: 0.9688\n",
      "Epoch 9/10\n",
      "5000/5000 [==============================] - 3s - loss: 0.1080 - acc: 0.9664 - val_loss: 0.1010 - val_acc: 0.9689\n",
      "Epoch 10/10\n",
      "5000/5000 [==============================] - 3s - loss: 0.0976 - acc: 0.9708 - val_loss: 0.1035 - val_acc: 0.9664\n",
      "model training\n",
      "05:01:21\n"
     ]
    }
   ],
   "source": [
    "#------------ Now Run Training\n",
    "mymodel.fit(X_train, Y_train, validation_split=0.0, validation_data=(X_test,Y_test), \n",
    "          batch_size=32, epochs=10, verbose=1)  #batch up 32 examples before adjusting weights,\n",
    "                                                #sweep through training data 'epochs' times\n",
    "print('model training')\n",
    "print (time.strftime(\"%H:%M:%S\"))"
   ]
  },
  {
   "cell_type": "code",
   "execution_count": 56,
   "metadata": {},
   "outputs": [
    {
     "name": "stdout",
     "output_type": "stream",
     "text": [
      " 9824/10000 [============================>.] - ETA: 0s[0.033213917306065557, 0.98980000000000001]\n",
      "[0.10348277954841033, 0.96640000000000004]\n",
      "evaluate scores\n",
      "05:01:39\n"
     ]
    }
   ],
   "source": [
    "#--------- Get overall prediction score\n",
    "trainscore = mymodel.evaluate(X_train, Y_train, verbose=1) # get overal score\n",
    "testscore  = mymodel.evaluate(X_test, Y_test, verbose=1) # get overal score\n",
    "#somepred  = mymodel.predict(X_test,verbose=0)           # get predicted labels\n",
    "print(trainscore)\n",
    "print(testscore)\n",
    "print('evaluate scores')\n",
    "print (time.strftime(\"%H:%M:%S\"))"
   ]
  },
  {
   "cell_type": "code",
   "execution_count": 57,
   "metadata": {},
   "outputs": [
    {
     "name": "stdout",
     "output_type": "stream",
     "text": [
      "4.0\n"
     ]
    },
    {
     "data": {
      "image/png": "[encoded data removed]",
      "text/plain": [
       "<matplotlib.figure.Figure at 0x2ad2db612550>"
      ]
     },
     "metadata": {},
     "output_type": "display_data"
    },
    {
     "name": "stdout",
     "output_type": "stream",
     "text": [
      "done plotting weights mosaic\n"
     ]
    }
   ],
   "source": [
    "# ------------ GET WEIGHTS From Convolution Layer and make mosaic image \n",
    "Wlist   =mymodel.layers[0].get_weights()\n",
    "W3D     =np.squeeze(Wlist[0])\n",
    "W3D.shape\n",
    "W3Dchan =W3D.swapaxes(1,2).swapaxes(0,1)  #get 32 as 1st dimension\n",
    "\n",
    "Wmin       =np.amin(W3Dchan)\n",
    "Wmax       =np.amax(W3Dchan-Wmin)\n",
    "Wsc        =np.int_(255*(W3Dchan-Wmin)/Wmax)\n",
    "ncol =4\n",
    "nrow =np.ceil(numfilters/ncol)\n",
    "print(nrow)\n",
    "plt.figure()\n",
    "for i in range(Wsc.shape[0]):\n",
    "   plt.subplot(nrow,ncol,i+1)\n",
    "   plt.imshow(Wsc[i],'gray')\n",
    "   plt.axis('off')\n",
    "#plt.savefig(\"test.png\", bbox_inches='tight')\n",
    "plt.show()\n",
    "print('done plotting weights mosaic')"
   ]
  },
  {
   "cell_type": "code",
   "execution_count": 58,
   "metadata": {},
   "outputs": [
    {
     "name": "stdout",
     "output_type": "stream",
     "text": [
      "getting output shape\n",
      "05:02:00\n"
     ]
    }
   ],
   "source": [
    "#  ---------------- NOW Visualize the activations for the first training example --------\n",
    "from keras import backend as K    #backend is tensorflow\n",
    "\n",
    "get_layer_output = K.function([mymodel.layers[0].input],[mymodel.layers[0].output]) #set up function\n",
    "x                = np.expand_dims(X_train[0],0)           #set up a 4D input of 1 image training set \n",
    "layer_output     = get_layer_output([x])[0]  #get output using K.function\n",
    "\n",
    "layer_output.shape    #check output shape and use it in next cell, first dimension is number of filters\n",
    "\n",
    "print('getting output shape')\n",
    "print (time.strftime(\"%H:%M:%S\"))"
   ]
  },
  {
   "cell_type": "code",
   "execution_count": 59,
   "metadata": {
    "scrolled": true
   },
   "outputs": [
    {
     "data": {
      "image/png": "[encoded data removed]",
      "text/plain": [
       "<matplotlib.figure.Figure at 0x2ad2db612080>"
      ]
     },
     "metadata": {},
     "output_type": "display_data"
    },
    {
     "name": "stdout",
     "output_type": "stream",
     "text": [
      "done plotting layer activation output mosaic\n",
      "05:02:04\n"
     ]
    }
   ],
   "source": [
    "# --- Now output a mosaic\n",
    "layeroutput3D      = np.squeeze(layer_output)      \n",
    "ncol =4\n",
    "nrow =np.ceil(numfilters/ncol)\n",
    "plt.figure()\n",
    "for i in range(layeroutput3D.shape[0]):\n",
    "   plt.subplot(nrow,ncol,i+1)\n",
    "   plt.imshow(layeroutput3D[i],'gray')\n",
    "   plt.axis('off')\n",
    "#plt.savefig(\"test.png\", bbox_inches='tight')\n",
    "plt.show()\n",
    "print('done plotting layer activation output mosaic')\n",
    "print (time.strftime(\"%H:%M:%S\"))"
   ]
  },
  {
   "cell_type": "code",
   "execution_count": null,
   "metadata": {
    "collapsed": true
   },
   "outputs": [],
   "source": []
  }
 ],
 "metadata": {
  "kernelspec": {
   "display_name": "Python 3",
   "language": "python",
   "name": "python3"
  },
  "language_info": {
   "codemirror_mode": {
    "name": "ipython",
    "version": 3
   },
   "file_extension": ".py",
   "mimetype": "text/x-python",
   "name": "python",
   "nbconvert_exporter": "python",
   "pygments_lexer": "ipython3",
   "version": "3.5.1+"
  }
 },
 "nbformat": 4,
 "nbformat_minor": 2
}
