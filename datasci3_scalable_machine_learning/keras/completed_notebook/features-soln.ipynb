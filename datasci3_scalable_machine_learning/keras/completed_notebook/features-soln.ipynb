{
 "cells": [
  {
   "cell_type": "markdown",
   "metadata": {},
   "source": [
    "# Train CNN on Cats-Dogs Classification\n",
    "### From fchollet/classifier_from_little_data_script_2.py (https://gist.github.com/fchollet/f35fbc80e066a49d65f1688a7e99f069) and blog https://blog.keras.io/building-powerful-image-classification-models-using-very-little-data.html\n",
    "### VGG16 trained on ImageNet data is used as pre-trained model from which to extract features.  Features are then saved, and passed through neural network with ReLu hidden layer to classify cats vs. dogs."
   ]
  },
  {
   "cell_type": "code",
   "execution_count": 1,
   "metadata": {},
   "outputs": [
    {
     "name": "stderr",
     "output_type": "stream",
     "text": [
      "Using TensorFlow backend.\n"
     ]
    }
   ],
   "source": [
    "import keras"
   ]
  },
  {
   "cell_type": "code",
   "execution_count": 2,
   "metadata": {
    "collapsed": true
   },
   "outputs": [],
   "source": [
    "from keras.models import Sequential\n",
    "from keras.preprocessing.image import ImageDataGenerator\n",
    "from keras.layers import Dropout, Flatten, Dense\n",
    "from keras import backend as K\n",
    "from keras import applications\n",
    "import numpy as np\n",
    "\n",
    "# To have Python3 features work with Python2\n",
    "from __future__ import division\n",
    "from __future__ import print_function\n",
    "from __future__ import unicode_literals"
   ]
  },
  {
   "cell_type": "code",
   "execution_count": 3,
   "metadata": {},
   "outputs": [
    {
     "name": "stdout",
     "output_type": "stream",
     "text": [
      "1.1.0\n",
      "2.0.4\n"
     ]
    }
   ],
   "source": [
    "import tensorflow as tf\n",
    "print (tf.__version__)\n",
    "print (keras.__version__)"
   ]
  },
  {
   "cell_type": "markdown",
   "metadata": {},
   "source": [
    "### Set dimensions, number, and location of images"
   ]
  },
  {
   "cell_type": "code",
   "execution_count": 4,
   "metadata": {},
   "outputs": [
    {
     "name": "stdout",
     "output_type": "stream",
     "text": [
      "(150, 150, 3)\n"
     ]
    }
   ],
   "source": [
    "# Image dimensions\n",
    "img_width, img_height = 150, 150\n",
    "\n",
    "# Location of images\n",
    "train_data_dir = 'data/train'\n",
    "validation_data_dir = 'data/validation'\n",
    "\n",
    "if K.image_data_format() == 'channels_first':\n",
    "    input_shape = (3, img_width, img_height)\n",
    "else:\n",
    "    input_shape = (img_width, img_height, 3)\n",
    "    \n",
    "print (input_shape)\n",
    "\n",
    "# Number of images\n",
    "nb_train_samples = 2000\n",
    "nb_validation_samples = 800\n",
    "\n",
    "# Batch size\n",
    "batch_size = 16"
   ]
  },
  {
   "cell_type": "markdown",
   "metadata": {},
   "source": [
    "### Method to extract features from pre-trained network and save features"
   ]
  },
  {
   "cell_type": "code",
   "execution_count": 5,
   "metadata": {
    "collapsed": true
   },
   "outputs": [],
   "source": [
    "def save_features():\n",
    "    \n",
    "    # Scale pixel values in image\n",
    "    datagen = ImageDataGenerator(rescale=1. / 255)\n",
    "\n",
    "    # Load the VGG16 network's imagenet weights, not including the last fully connected layers.\n",
    "    model = applications.VGG16(include_top=False, weights='imagenet')\n",
    "\n",
    "    # Generator that will read pictures found in subfolders of training data directory,\n",
    "    # and indefinitely generate batches of image data (scaled)\n",
    "    generator = datagen.flow_from_directory(\n",
    "        train_data_dir,\n",
    "        target_size=(img_width, img_height),\n",
    "        batch_size=batch_size,\n",
    "        class_mode=None,        # Generator will only yield batches of data, no labels\n",
    "        shuffle=False)          # Data will be presented in order, i.e., 1000 cat images, then 1000 dog images\n",
    "    \n",
    "    # The predict_generator method returns the output of the model, given input provided by a generator\n",
    "    # that yields batches of numpy data\n",
    "    features_train = model.predict_generator(\n",
    "        generator, nb_train_samples // batch_size)\n",
    "    \n",
    "    # Save model outputs (i.e., features) from model as numpy array\n",
    "    np.save('features_train.npy', features_train) \n",
    "\n",
    "    # Generator to generator validation input for model\n",
    "    generator = datagen.flow_from_directory(\n",
    "        validation_data_dir,\n",
    "        target_size=(img_width, img_height),\n",
    "        batch_size=batch_size,\n",
    "        class_mode=None,\n",
    "        shuffle=False)\n",
    "    \n",
    "    # Get model output for validation data\n",
    "    features_validation = model.predict_generator(\n",
    "        generator, nb_validation_samples // batch_size)\n",
    "    \n",
    "    # Save model outputs (i.e., features) for validation data\n",
    "    np.save('features_validation.npy', features_validation) \n",
    "    \n",
    "    # Print out model architecture\n",
    "    model.summary()"
   ]
  },
  {
   "cell_type": "markdown",
   "metadata": {},
   "source": [
    "### Call method to extract and save features from pre-trained network"
   ]
  },
  {
   "cell_type": "code",
   "execution_count": 7,
   "metadata": {
    "scrolled": true
   },
   "outputs": [
    {
     "name": "stdout",
     "output_type": "stream",
     "text": [
      "Found 2000 images belonging to 2 classes.\n",
      "Found 800 images belonging to 2 classes.\n",
      "_________________________________________________________________\n",
      "Layer (type)                 Output Shape              Param #   \n",
      "=================================================================\n",
      "input_2 (InputLayer)         (None, None, None, 3)     0         \n",
      "_________________________________________________________________\n",
      "block1_conv1 (Conv2D)        (None, None, None, 64)    1792      \n",
      "_________________________________________________________________\n",
      "block1_conv2 (Conv2D)        (None, None, None, 64)    36928     \n",
      "_________________________________________________________________\n",
      "block1_pool (MaxPooling2D)   (None, None, None, 64)    0         \n",
      "_________________________________________________________________\n",
      "block2_conv1 (Conv2D)        (None, None, None, 128)   73856     \n",
      "_________________________________________________________________\n",
      "block2_conv2 (Conv2D)        (None, None, None, 128)   147584    \n",
      "_________________________________________________________________\n",
      "block2_pool (MaxPooling2D)   (None, None, None, 128)   0         \n",
      "_________________________________________________________________\n",
      "block3_conv1 (Conv2D)        (None, None, None, 256)   295168    \n",
      "_________________________________________________________________\n",
      "block3_conv2 (Conv2D)        (None, None, None, 256)   590080    \n",
      "_________________________________________________________________\n",
      "block3_conv3 (Conv2D)        (None, None, None, 256)   590080    \n",
      "_________________________________________________________________\n",
      "block3_pool (MaxPooling2D)   (None, None, None, 256)   0         \n",
      "_________________________________________________________________\n",
      "block4_conv1 (Conv2D)        (None, None, None, 512)   1180160   \n",
      "_________________________________________________________________\n",
      "block4_conv2 (Conv2D)        (None, None, None, 512)   2359808   \n",
      "_________________________________________________________________\n",
      "block4_conv3 (Conv2D)        (None, None, None, 512)   2359808   \n",
      "_________________________________________________________________\n",
      "block4_pool (MaxPooling2D)   (None, None, None, 512)   0         \n",
      "_________________________________________________________________\n",
      "block5_conv1 (Conv2D)        (None, None, None, 512)   2359808   \n",
      "_________________________________________________________________\n",
      "block5_conv2 (Conv2D)        (None, None, None, 512)   2359808   \n",
      "_________________________________________________________________\n",
      "block5_conv3 (Conv2D)        (None, None, None, 512)   2359808   \n",
      "_________________________________________________________________\n",
      "block5_pool (MaxPooling2D)   (None, None, None, 512)   0         \n",
      "=================================================================\n",
      "Total params: 14,714,688\n",
      "Trainable params: 14,714,688\n",
      "Non-trainable params: 0\n",
      "_________________________________________________________________\n"
     ]
    }
   ],
   "source": [
    "save_features()"
   ]
  },
  {
   "cell_type": "markdown",
   "metadata": {},
   "source": [
    "### Load saved features"
   ]
  },
  {
   "cell_type": "code",
   "execution_count": 7,
   "metadata": {},
   "outputs": [
    {
     "name": "stdout",
     "output_type": "stream",
     "text": [
      "(2000,) (800,)\n"
     ]
    }
   ],
   "source": [
    "# Load saved features for train data\n",
    "train_data = np.load('features_train.npy')\n",
    "    \n",
    "# Create labels for train data.  Images were generated in order, so creating labels is easy.\n",
    "train_labels = np.array([0] * (nb_train_samples // 2) + [1] * (nb_train_samples // 2)) \n",
    "\n",
    "# Load saved features for validation data\n",
    "validation_data = np.load('features_validation.npy') \n",
    "    \n",
    "# Create labels for validation data\n",
    "validation_labels = np.array([0] * (nb_validation_samples // 2) + [1] * (nb_validation_samples // 2)) \n",
    "    \n",
    "print (train_labels.shape, validation_labels.shape)"
   ]
  },
  {
   "cell_type": "markdown",
   "metadata": {},
   "source": [
    "### Create top model"
   ]
  },
  {
   "cell_type": "code",
   "execution_count": 8,
   "metadata": {
    "scrolled": true
   },
   "outputs": [
    {
     "name": "stdout",
     "output_type": "stream",
     "text": [
      "<keras.models.Sequential object at 0x2b5ef18710b8>\n",
      "_________________________________________________________________\n",
      "Layer (type)                 Output Shape              Param #   \n",
      "=================================================================\n",
      "flatten_1 (Flatten)          (None, 8192)              0         \n",
      "_________________________________________________________________\n",
      "dense_1 (Dense)              (None, 256)               2097408   \n",
      "_________________________________________________________________\n",
      "dropout_1 (Dropout)          (None, 256)               0         \n",
      "_________________________________________________________________\n",
      "dense_2 (Dense)              (None, 1)                 257       \n",
      "=================================================================\n",
      "Total params: 2,097,665\n",
      "Trainable params: 2,097,665\n",
      "Non-trainable params: 0\n",
      "_________________________________________________________________\n"
     ]
    }
   ],
   "source": [
    "# Create fully connected layer on top of model\n",
    "top_model = Sequential()\n",
    "top_model.add(Flatten(input_shape=train_data.shape[1:]))  # Convert 3D feature maps to 1D feature vectors\n",
    "top_model.add(Dense(256, activation='relu'))\n",
    "top_model.add(Dropout(0.5))\n",
    "top_model.add(Dense(1, activation='sigmoid'))\n",
    "\n",
    "# Create model\n",
    "top_model.compile(optimizer='rmsprop',\n",
    "              loss='binary_crossentropy', \n",
    "              metrics=['accuracy'])\n",
    "print(top_model)\n",
    "top_model.summary()\n"
   ]
  },
  {
   "cell_type": "markdown",
   "metadata": {},
   "source": [
    "### Train top model"
   ]
  },
  {
   "cell_type": "code",
   "execution_count": 9,
   "metadata": {},
   "outputs": [
    {
     "name": "stdout",
     "output_type": "stream",
     "text": [
      "Train on 2000 samples, validate on 800 samples\n",
      "Epoch 1/50\n",
      "2000/2000 [==============================] - 0s - loss: 0.7562 - acc: 0.7550 - val_loss: 0.4351 - val_acc: 0.7875\n",
      "Epoch 2/50\n",
      "2000/2000 [==============================] - 0s - loss: 0.3883 - acc: 0.8440 - val_loss: 0.3068 - val_acc: 0.8725\n",
      "Epoch 3/50\n",
      "2000/2000 [==============================] - 0s - loss: 0.3485 - acc: 0.8625 - val_loss: 0.2414 - val_acc: 0.9025\n",
      "Epoch 4/50\n",
      "2000/2000 [==============================] - 0s - loss: 0.2582 - acc: 0.8895 - val_loss: 0.3872 - val_acc: 0.8812\n",
      "Epoch 5/50\n",
      "2000/2000 [==============================] - 0s - loss: 0.2385 - acc: 0.9100 - val_loss: 0.3948 - val_acc: 0.8638\n",
      "Epoch 6/50\n",
      "2000/2000 [==============================] - 0s - loss: 0.2193 - acc: 0.9220 - val_loss: 0.3441 - val_acc: 0.8900\n",
      "Epoch 7/50\n",
      "2000/2000 [==============================] - 0s - loss: 0.1777 - acc: 0.9385 - val_loss: 0.4035 - val_acc: 0.8862\n",
      "Epoch 8/50\n",
      "2000/2000 [==============================] - 0s - loss: 0.1759 - acc: 0.9310 - val_loss: 0.3531 - val_acc: 0.9087\n",
      "Epoch 9/50\n",
      "2000/2000 [==============================] - 0s - loss: 0.1454 - acc: 0.9440 - val_loss: 0.4057 - val_acc: 0.8775\n",
      "Epoch 10/50\n",
      "2000/2000 [==============================] - 0s - loss: 0.1303 - acc: 0.9495 - val_loss: 0.6322 - val_acc: 0.8475\n",
      "Epoch 11/50\n",
      "2000/2000 [==============================] - 0s - loss: 0.1003 - acc: 0.9580 - val_loss: 0.5867 - val_acc: 0.8838\n",
      "Epoch 12/50\n",
      "2000/2000 [==============================] - 0s - loss: 0.1031 - acc: 0.9645 - val_loss: 0.5486 - val_acc: 0.8888\n",
      "Epoch 13/50\n",
      "2000/2000 [==============================] - 0s - loss: 0.1097 - acc: 0.9605 - val_loss: 0.4927 - val_acc: 0.8900\n",
      "Epoch 14/50\n",
      "2000/2000 [==============================] - 0s - loss: 0.0716 - acc: 0.9720 - val_loss: 0.4483 - val_acc: 0.9062\n",
      "Epoch 15/50\n",
      "2000/2000 [==============================] - 0s - loss: 0.0802 - acc: 0.9720 - val_loss: 0.5512 - val_acc: 0.9050\n",
      "Epoch 16/50\n",
      "2000/2000 [==============================] - 0s - loss: 0.0827 - acc: 0.9740 - val_loss: 0.5832 - val_acc: 0.9025\n",
      "Epoch 17/50\n",
      "2000/2000 [==============================] - 0s - loss: 0.0657 - acc: 0.9785 - val_loss: 0.5377 - val_acc: 0.9050\n",
      "Epoch 18/50\n",
      "2000/2000 [==============================] - 0s - loss: 0.0624 - acc: 0.9785 - val_loss: 0.6540 - val_acc: 0.9038\n",
      "Epoch 19/50\n",
      "2000/2000 [==============================] - 0s - loss: 0.0476 - acc: 0.9815 - val_loss: 0.6316 - val_acc: 0.9075\n",
      "Epoch 20/50\n",
      "2000/2000 [==============================] - 0s - loss: 0.0512 - acc: 0.9790 - val_loss: 0.8580 - val_acc: 0.8725\n",
      "Epoch 21/50\n",
      "2000/2000 [==============================] - 0s - loss: 0.0558 - acc: 0.9825 - val_loss: 0.6519 - val_acc: 0.8988\n",
      "Epoch 22/50\n",
      "2000/2000 [==============================] - 0s - loss: 0.0293 - acc: 0.9925 - val_loss: 0.6727 - val_acc: 0.8950\n",
      "Epoch 23/50\n",
      "2000/2000 [==============================] - 0s - loss: 0.0402 - acc: 0.9885 - val_loss: 0.7522 - val_acc: 0.9012\n",
      "Epoch 24/50\n",
      "2000/2000 [==============================] - 0s - loss: 0.0395 - acc: 0.9840 - val_loss: 0.7159 - val_acc: 0.8875\n",
      "Epoch 25/50\n",
      "2000/2000 [==============================] - 0s - loss: 0.0287 - acc: 0.9910 - val_loss: 1.1737 - val_acc: 0.8575\n",
      "Epoch 26/50\n",
      "2000/2000 [==============================] - 0s - loss: 0.0217 - acc: 0.9920 - val_loss: 0.7115 - val_acc: 0.8938\n",
      "Epoch 27/50\n",
      "2000/2000 [==============================] - 0s - loss: 0.0315 - acc: 0.9895 - val_loss: 0.7576 - val_acc: 0.9025\n",
      "Epoch 28/50\n",
      "2000/2000 [==============================] - 0s - loss: 0.0310 - acc: 0.9895 - val_loss: 0.9467 - val_acc: 0.8838\n",
      "Epoch 29/50\n",
      "2000/2000 [==============================] - 0s - loss: 0.0387 - acc: 0.9915 - val_loss: 0.7954 - val_acc: 0.8988\n",
      "Epoch 30/50\n",
      "2000/2000 [==============================] - 0s - loss: 0.0265 - acc: 0.9935 - val_loss: 0.7761 - val_acc: 0.9062\n",
      "Epoch 31/50\n",
      "2000/2000 [==============================] - 0s - loss: 0.0194 - acc: 0.9930 - val_loss: 0.7989 - val_acc: 0.8975\n",
      "Epoch 32/50\n",
      "2000/2000 [==============================] - 0s - loss: 0.0266 - acc: 0.9930 - val_loss: 0.9412 - val_acc: 0.8862\n",
      "Epoch 33/50\n",
      "2000/2000 [==============================] - 0s - loss: 0.0175 - acc: 0.9955 - val_loss: 0.8997 - val_acc: 0.8938\n",
      "Epoch 34/50\n",
      "2000/2000 [==============================] - 0s - loss: 0.0185 - acc: 0.9945 - val_loss: 0.8353 - val_acc: 0.8988\n",
      "Epoch 35/50\n",
      "2000/2000 [==============================] - 0s - loss: 0.0194 - acc: 0.9945 - val_loss: 0.8159 - val_acc: 0.8988\n",
      "Epoch 36/50\n",
      "2000/2000 [==============================] - 0s - loss: 0.0263 - acc: 0.9920 - val_loss: 0.8338 - val_acc: 0.8962\n",
      "Epoch 37/50\n",
      "2000/2000 [==============================] - 0s - loss: 0.0168 - acc: 0.9945 - val_loss: 0.8709 - val_acc: 0.8988\n",
      "Epoch 38/50\n",
      "2000/2000 [==============================] - 0s - loss: 0.0305 - acc: 0.9910 - val_loss: 0.9793 - val_acc: 0.8912\n",
      "Epoch 39/50\n",
      "2000/2000 [==============================] - 0s - loss: 0.0184 - acc: 0.9955 - val_loss: 0.8310 - val_acc: 0.8988\n",
      "Epoch 40/50\n",
      "2000/2000 [==============================] - 0s - loss: 0.0264 - acc: 0.9945 - val_loss: 0.8824 - val_acc: 0.9000\n",
      "Epoch 41/50\n",
      "2000/2000 [==============================] - 0s - loss: 0.0167 - acc: 0.9950 - val_loss: 0.9225 - val_acc: 0.8975\n",
      "Epoch 42/50\n",
      "2000/2000 [==============================] - 0s - loss: 0.0175 - acc: 0.9950 - val_loss: 0.9440 - val_acc: 0.8925\n",
      "Epoch 43/50\n",
      "2000/2000 [==============================] - 0s - loss: 0.0167 - acc: 0.9955 - val_loss: 0.9872 - val_acc: 0.8962\n",
      "Epoch 44/50\n",
      "2000/2000 [==============================] - 0s - loss: 0.0204 - acc: 0.9940 - val_loss: 0.9559 - val_acc: 0.8912\n",
      "Epoch 45/50\n",
      "2000/2000 [==============================] - 0s - loss: 0.0106 - acc: 0.9970 - val_loss: 0.9841 - val_acc: 0.8938\n",
      "Epoch 46/50\n",
      "2000/2000 [==============================] - 0s - loss: 0.0176 - acc: 0.9935 - val_loss: 0.9567 - val_acc: 0.8988\n",
      "Epoch 47/50\n",
      "2000/2000 [==============================] - 0s - loss: 0.0042 - acc: 0.9985 - val_loss: 1.0113 - val_acc: 0.8975\n",
      "Epoch 48/50\n",
      "2000/2000 [==============================] - 0s - loss: 0.0187 - acc: 0.9945 - val_loss: 0.9837 - val_acc: 0.8950\n",
      "Epoch 49/50\n",
      "2000/2000 [==============================] - 0s - loss: 0.0106 - acc: 0.9975 - val_loss: 1.0524 - val_acc: 0.8938\n",
      "Epoch 50/50\n",
      "2000/2000 [==============================] - 0s - loss: 0.0096 - acc: 0.9970 - val_loss: 1.0303 - val_acc: 0.9000\n"
     ]
    }
   ],
   "source": [
    "# Set up model\n",
    "epochs = 50\n",
    "\n",
    "# Train model, keeping track of history\n",
    "from keras.callbacks import History\n",
    "hist = top_model.fit(train_data, train_labels,\n",
    "                 epochs=epochs,\n",
    "                 batch_size=batch_size,\n",
    "                 validation_data=(validation_data, validation_labels))"
   ]
  },
  {
   "cell_type": "markdown",
   "metadata": {},
   "source": [
    "### Save model and weights"
   ]
  },
  {
   "cell_type": "code",
   "execution_count": 10,
   "metadata": {},
   "outputs": [
    {
     "name": "stdout",
     "output_type": "stream",
     "text": [
      "['loss', 'acc']\n",
      "640/800 [=======================>......] - ETA: 0s[1.0302578243345488, 0.90000000000000002]\n"
     ]
    }
   ],
   "source": [
    "# Save model & weights to HDF5 file\n",
    "top_model_file = 'features_model' \n",
    "top_model.save(top_model_file + '.h5')\n",
    "\n",
    "# Save model to JSON file & weights to HDF5 file\n",
    "top_model_json = top_model.to_json()\n",
    "with open(top_model_file + '.json','w') as json_file:\n",
    "    json_file.write(top_model_json)\n",
    "top_model.save_weights(top_model_file+'-wts.h5')\n",
    "\n",
    "# Results on validation set\n",
    "print (top_model.metrics_names)\n",
    "results = top_model.evaluate (validation_data, validation_labels)\n",
    "print (results)"
   ]
  },
  {
   "cell_type": "markdown",
   "metadata": {
    "collapsed": true
   },
   "source": [
    "### Load model again and test"
   ]
  },
  {
   "cell_type": "code",
   "execution_count": 11,
   "metadata": {},
   "outputs": [
    {
     "name": "stdout",
     "output_type": "stream",
     "text": [
      "(800,)\n",
      "['loss', 'acc']\n",
      "640/800 [=======================>......] - ETA: 0s[1.0302578243345488, 0.90000000000000002]\n"
     ]
    }
   ],
   "source": [
    "top_model2 = keras.models.load_model(top_model_file+'.h5')\n",
    "print (validation_labels.shape)\n",
    "\n",
    "print (top_model2.metrics_names)\n",
    "results = top_model2.evaluate(validation_data, validation_labels)\n",
    "print (results)"
   ]
  },
  {
   "cell_type": "markdown",
   "metadata": {},
   "source": [
    "### Print training history"
   ]
  },
  {
   "cell_type": "code",
   "execution_count": 12,
   "metadata": {},
   "outputs": [
    {
     "name": "stdout",
     "output_type": "stream",
     "text": [
      "{'loss': [0.75620946407318113, 0.38833422219753266, 0.34847865225374697, 0.25823739103600385, 0.23854555155336857, 0.21934722927771508, 0.17765083876624704, 0.17587059116736053, 0.14538639918342233, 0.1302998317508027, 0.10034097794187255, 0.10305388736893656, 0.10974937926908024, 0.071636583280866029, 0.080228278074995621, 0.082745095178317574, 0.065720075527206059, 0.062401404995289338, 0.04756562361938995, 0.051249023380776637, 0.055768858771145458, 0.029296375989491936, 0.040238128622800219, 0.039485719197569553, 0.028710117394367556, 0.021672494325365731, 0.031522376377817636, 0.031023620085238748, 0.038693102420045873, 0.026471131247671566, 0.01941171434203386, 0.026624957630699043, 0.01745580202030908, 0.018507049563027466, 0.019398278977381552, 0.026310041387793717, 0.016837175016359368, 0.030540540591412139, 0.018435274036956457, 0.02637878313725588, 0.016734435934787257, 0.017507130782646641, 0.016745892381013847, 0.020405385320241293, 0.010554752694689, 0.017601357461636269, 0.0042139300796872588, 0.018691072072087821, 0.010621897096600719, 0.0095740270126860316], 'val_loss': [0.43507351659238336, 0.30675184071063993, 0.2413532931357622, 0.38723611102905126, 0.39480324241332709, 0.34412261565681546, 0.40345294580329211, 0.35312826911918821, 0.40567818140611051, 0.63220547734992583, 0.58665137938245604, 0.54862455706272162, 0.49267406561091776, 0.44830407386645676, 0.55120057801657818, 0.58324952306356859, 0.53774281465448437, 0.65401137768611084, 0.63161290165531681, 0.85800642800300353, 0.65188680055554871, 0.67269748882972635, 0.75218659801696053, 0.71592911939532311, 1.173691047947105, 0.71149958606605646, 0.75761780484137486, 0.94669566439887409, 0.79541242022204639, 0.77610571215711388, 0.79886113983712104, 0.94122590232606318, 0.89970459608539144, 0.83527449793456243, 0.81594506463348804, 0.83383784109684711, 0.87094920378529406, 0.97925923288299355, 0.83100460229068318, 0.88240709195984113, 0.92247291410845489, 0.94399258358524196, 0.98716006135073586, 0.95593170461651877, 0.98406485256183662, 0.95666797835118245, 1.0113120288433857, 0.98373178082812329, 1.0524169728184065, 1.0302578213958551], 'val_acc': [0.78749999999999998, 0.87250000000000005, 0.90249999999999997, 0.88124999999999998, 0.86375000000000002, 0.89000000000000001, 0.88624999999999998, 0.90874999999999995, 0.87749999999999995, 0.84750000000000003, 0.88375000000000004, 0.88875000000000004, 0.89000000000000001, 0.90625, 0.90500000000000003, 0.90249999999999997, 0.90500000000000003, 0.90375000000000005, 0.90749999999999997, 0.87250000000000005, 0.89875000000000005, 0.89500000000000002, 0.90125, 0.88749999999999996, 0.85750000000000004, 0.89375000000000004, 0.90249999999999997, 0.88375000000000004, 0.89875000000000005, 0.90625, 0.89749999999999996, 0.88624999999999998, 0.89375000000000004, 0.89875000000000005, 0.89875000000000005, 0.89624999999999999, 0.89875000000000005, 0.89124999999999999, 0.89875000000000005, 0.90000000000000002, 0.89749999999999996, 0.89249999999999996, 0.89624999999999999, 0.89124999999999999, 0.89375000000000004, 0.89875000000000005, 0.89749999999999996, 0.89500000000000002, 0.89375000000000004, 0.90000000000000002], 'acc': [0.755, 0.84399999999999997, 0.86250000000000004, 0.88949999999999996, 0.91000000000000003, 0.92200000000000004, 0.9385, 0.93100000000000005, 0.94399999999999995, 0.94950000000000001, 0.95799999999999996, 0.96450000000000002, 0.96050000000000002, 0.97199999999999998, 0.97199999999999998, 0.97399999999999998, 0.97850000000000004, 0.97850000000000004, 0.98150000000000004, 0.97899999999999998, 0.98250000000000004, 0.99250000000000005, 0.98850000000000005, 0.98399999999999999, 0.99099999999999999, 0.99199999999999999, 0.98950000000000005, 0.98950000000000005, 0.99150000000000005, 0.99350000000000005, 0.99299999999999999, 0.99299999999999999, 0.99550000000000005, 0.99450000000000005, 0.99450000000000005, 0.99199999999999999, 0.99450000000000005, 0.99099999999999999, 0.99550000000000005, 0.99450000000000005, 0.995, 0.995, 0.99550000000000005, 0.99399999999999999, 0.997, 0.99350000000000005, 0.99850000000000005, 0.99450000000000005, 0.99750000000000005, 0.997]}\n"
     ]
    }
   ],
   "source": [
    "print (hist.history)"
   ]
  },
  {
   "cell_type": "markdown",
   "metadata": {},
   "source": [
    "### Plot accuracies"
   ]
  },
  {
   "cell_type": "code",
   "execution_count": 13,
   "metadata": {},
   "outputs": [
    {
     "data": {
      "image/png": "[encoded data removed]",
      "text/plain": [
       "<matplotlib.figure.Figure at 0x2b5f0c269898>"
      ]
     },
     "metadata": {},
     "output_type": "display_data"
    }
   ],
   "source": [
    "import matplotlib.pyplot as plt\n",
    "%matplotlib inline\n",
    "\n",
    "result = hist.history\n",
    "\n",
    "# summarize history for accuracy\n",
    "plt.plot(result['acc'])\n",
    "plt.plot(result['val_acc'])\n",
    "plt.title('model accuracy')\n",
    "plt.ylabel('accuracy')\n",
    "plt.xlabel('epoch')\n",
    "plt.legend(['train', 'val'], loc='upper left')\n",
    "plt.show()"
   ]
  },
  {
   "cell_type": "code",
   "execution_count": null,
   "metadata": {
    "collapsed": true
   },
   "outputs": [],
   "source": []
  }
 ],
 "metadata": {
  "kernelspec": {
   "display_name": "Python 3",
   "language": "python",
   "name": "python3"
  },
  "language_info": {
   "codemirror_mode": {
    "name": "ipython",
    "version": 3
   },
   "file_extension": ".py",
   "mimetype": "text/x-python",
   "name": "python",
   "nbconvert_exporter": "python",
   "pygments_lexer": "ipython3",
   "version": "3.5.1+"
  }
 },
 "nbformat": 4,
 "nbformat_minor": 2
}
