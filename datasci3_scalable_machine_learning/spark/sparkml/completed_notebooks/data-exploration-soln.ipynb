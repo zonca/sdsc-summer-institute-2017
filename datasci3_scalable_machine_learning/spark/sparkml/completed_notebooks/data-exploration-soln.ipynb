{
 "cells": [
  {
   "cell_type": "code",
   "execution_count": 1,
   "metadata": {
    "collapsed": false
   },
   "outputs": [],
   "source": [
    "# Load data into Spark dataframe\n",
    "\n",
    "from pyspark.sql import SQLContext\n",
    "\n",
    "sqlContext = SQLContext(sc)\n",
    "\n",
    "df = spark.read.format(\"csv\").option(\"header\",\"true\").option(\"inferSchema\",\"true\").load(\"file:/home/mhnguyen/projects/teaching/SI2017/sparkml/daily_weather.csv\") "
   ]
  },
  {
   "cell_type": "code",
   "execution_count": 2,
   "metadata": {
    "collapsed": false
   },
   "outputs": [
    {
     "name": "stdout",
     "output_type": "stream",
     "text": [
      "root\n",
      " |-- number: integer (nullable = true)\n",
      " |-- air_pressure_9am: double (nullable = true)\n",
      " |-- air_temp_9am: double (nullable = true)\n",
      " |-- avg_wind_direction_9am: double (nullable = true)\n",
      " |-- avg_wind_speed_9am: double (nullable = true)\n",
      " |-- max_wind_direction_9am: double (nullable = true)\n",
      " |-- max_wind_speed_9am: double (nullable = true)\n",
      " |-- rain_accumulation_9am: double (nullable = true)\n",
      " |-- rain_duration_9am: double (nullable = true)\n",
      " |-- relative_humidity_9am: double (nullable = true)\n",
      " |-- relative_humidity_3pm: double (nullable = true)\n",
      "\n"
     ]
    }
   ],
   "source": [
    "# Examine schema\n",
    "\n",
    "df.printSchema()"
   ]
  },
  {
   "cell_type": "code",
   "execution_count": 3,
   "metadata": {
    "collapsed": false
   },
   "outputs": [
    {
     "data": {
      "text/html": [
       "<div>\n",
       "<table border=\"1\" class=\"dataframe\">\n",
       "  <thead>\n",
       "    <tr style=\"text-align: right;\">\n",
       "      <th></th>\n",
       "      <th>0</th>\n",
       "      <th>1</th>\n",
       "      <th>2</th>\n",
       "      <th>3</th>\n",
       "      <th>4</th>\n",
       "    </tr>\n",
       "  </thead>\n",
       "  <tbody>\n",
       "    <tr>\n",
       "      <th>summary</th>\n",
       "      <td>count</td>\n",
       "      <td>mean</td>\n",
       "      <td>stddev</td>\n",
       "      <td>min</td>\n",
       "      <td>max</td>\n",
       "    </tr>\n",
       "    <tr>\n",
       "      <th>number</th>\n",
       "      <td>1095</td>\n",
       "      <td>547.0</td>\n",
       "      <td>316.24357700987383</td>\n",
       "      <td>0</td>\n",
       "      <td>1094</td>\n",
       "    </tr>\n",
       "    <tr>\n",
       "      <th>air_pressure_9am</th>\n",
       "      <td>1092</td>\n",
       "      <td>918.8825513138094</td>\n",
       "      <td>3.184161180386833</td>\n",
       "      <td>907.9900000000024</td>\n",
       "      <td>929.3200000000012</td>\n",
       "    </tr>\n",
       "    <tr>\n",
       "      <th>air_temp_9am</th>\n",
       "      <td>1090</td>\n",
       "      <td>64.93300141287072</td>\n",
       "      <td>11.175514003175877</td>\n",
       "      <td>36.752000000000685</td>\n",
       "      <td>98.90599999999992</td>\n",
       "    </tr>\n",
       "    <tr>\n",
       "      <th>avg_wind_direction_9am</th>\n",
       "      <td>1091</td>\n",
       "      <td>142.2355107005759</td>\n",
       "      <td>69.13785928889189</td>\n",
       "      <td>15.500000000000046</td>\n",
       "      <td>343.4</td>\n",
       "    </tr>\n",
       "    <tr>\n",
       "      <th>avg_wind_speed_9am</th>\n",
       "      <td>1092</td>\n",
       "      <td>5.50828424225493</td>\n",
       "      <td>4.5528134655317185</td>\n",
       "      <td>0.69345139999974</td>\n",
       "      <td>23.554978199999763</td>\n",
       "    </tr>\n",
       "    <tr>\n",
       "      <th>max_wind_direction_9am</th>\n",
       "      <td>1092</td>\n",
       "      <td>148.95351796516923</td>\n",
       "      <td>67.23801294602953</td>\n",
       "      <td>28.89999999999991</td>\n",
       "      <td>312.19999999999993</td>\n",
       "    </tr>\n",
       "    <tr>\n",
       "      <th>max_wind_speed_9am</th>\n",
       "      <td>1091</td>\n",
       "      <td>7.019513529175272</td>\n",
       "      <td>5.598209170780958</td>\n",
       "      <td>1.1855782000000479</td>\n",
       "      <td>29.84077959999996</td>\n",
       "    </tr>\n",
       "    <tr>\n",
       "      <th>rain_accumulation_9am</th>\n",
       "      <td>1089</td>\n",
       "      <td>0.20307895225211126</td>\n",
       "      <td>1.5939521253574893</td>\n",
       "      <td>0.0</td>\n",
       "      <td>24.01999999999907</td>\n",
       "    </tr>\n",
       "    <tr>\n",
       "      <th>rain_duration_9am</th>\n",
       "      <td>1092</td>\n",
       "      <td>294.1080522756142</td>\n",
       "      <td>1598.0787786601481</td>\n",
       "      <td>0.0</td>\n",
       "      <td>17704.0</td>\n",
       "    </tr>\n",
       "    <tr>\n",
       "      <th>relative_humidity_9am</th>\n",
       "      <td>1095</td>\n",
       "      <td>34.24140205923536</td>\n",
       "      <td>25.472066802250055</td>\n",
       "      <td>6.090000000001012</td>\n",
       "      <td>92.6200000000002</td>\n",
       "    </tr>\n",
       "    <tr>\n",
       "      <th>relative_humidity_3pm</th>\n",
       "      <td>1095</td>\n",
       "      <td>35.34472714825898</td>\n",
       "      <td>22.524079453587273</td>\n",
       "      <td>5.3000000000006855</td>\n",
       "      <td>92.2500000000003</td>\n",
       "    </tr>\n",
       "  </tbody>\n",
       "</table>\n",
       "</div>"
      ],
      "text/plain": [
       "                            0                    1                   2  \\\n",
       "summary                 count                 mean              stddev   \n",
       "number                   1095                547.0  316.24357700987383   \n",
       "air_pressure_9am         1092    918.8825513138094   3.184161180386833   \n",
       "air_temp_9am             1090    64.93300141287072  11.175514003175877   \n",
       "avg_wind_direction_9am   1091    142.2355107005759   69.13785928889189   \n",
       "avg_wind_speed_9am       1092     5.50828424225493  4.5528134655317185   \n",
       "max_wind_direction_9am   1092   148.95351796516923   67.23801294602953   \n",
       "max_wind_speed_9am       1091    7.019513529175272   5.598209170780958   \n",
       "rain_accumulation_9am    1089  0.20307895225211126  1.5939521253574893   \n",
       "rain_duration_9am        1092    294.1080522756142  1598.0787786601481   \n",
       "relative_humidity_9am    1095    34.24140205923536  25.472066802250055   \n",
       "relative_humidity_3pm    1095    35.34472714825898  22.524079453587273   \n",
       "\n",
       "                                         3                   4  \n",
       "summary                                min                 max  \n",
       "number                                   0                1094  \n",
       "air_pressure_9am         907.9900000000024   929.3200000000012  \n",
       "air_temp_9am            36.752000000000685   98.90599999999992  \n",
       "avg_wind_direction_9am  15.500000000000046               343.4  \n",
       "avg_wind_speed_9am        0.69345139999974  23.554978199999763  \n",
       "max_wind_direction_9am   28.89999999999991  312.19999999999993  \n",
       "max_wind_speed_9am      1.1855782000000479   29.84077959999996  \n",
       "rain_accumulation_9am                  0.0   24.01999999999907  \n",
       "rain_duration_9am                      0.0             17704.0  \n",
       "relative_humidity_9am    6.090000000001012    92.6200000000002  \n",
       "relative_humidity_3pm   5.3000000000006855    92.2500000000003  "
      ]
     },
     "execution_count": 3,
     "metadata": {},
     "output_type": "execute_result"
    }
   ],
   "source": [
    "# Show summary statistics\n",
    "\n",
    "df.describe().toPandas().transpose()"
   ]
  },
  {
   "cell_type": "code",
   "execution_count": 4,
   "metadata": {
    "collapsed": false
   },
   "outputs": [
    {
     "data": {
      "text/plain": [
       "-0.5366700581231807"
      ]
     },
     "execution_count": 4,
     "metadata": {},
     "output_type": "execute_result"
    }
   ],
   "source": [
    "# Calculate correlation\n",
    "\n",
    "df.stat.corr('air_temp_9am', 'relative_humidity_9am')"
   ]
  },
  {
   "cell_type": "code",
   "execution_count": 5,
   "metadata": {
    "collapsed": false
   },
   "outputs": [],
   "source": [
    "# Show plots in notebook\n",
    "\n",
    "%matplotlib inline"
   ]
  },
  {
   "cell_type": "code",
   "execution_count": 6,
   "metadata": {
    "collapsed": false
   },
   "outputs": [
    {
     "data": {
      "text/plain": [
       "<matplotlib.axes._subplots.AxesSubplot at 0x2b9a0123ee10>"
      ]
     },
     "execution_count": 6,
     "metadata": {},
     "output_type": "execute_result"
    },
    {
     "name": "stderr",
     "output_type": "stream",
     "text": [
      "/oasis/scratch/comet/zonca/temp_project/anaconda/envs/py35zonca/lib/python3.5/site-packages/matplotlib/collections.py:590: FutureWarning: elementwise comparison failed; returning scalar instead, but in the future will perform elementwise comparison\n",
      "  if self._edgecolors == str('face'):\n"
     ]
    },
    {
     "data": {
      "image/png": "[encoded data removed]",
      "text/plain": [
       "<matplotlib.figure.Figure at 0x2b9a0123e940>"
      ]
     },
     "metadata": {},
     "output_type": "display_data"
    }
   ],
   "source": [
    "# Scatter plot of humidity vs air temperature\n",
    "\n",
    "# df.select('air_temp_9am', 'relative_humidity_9am').toPandas().plot.scatter(x='air_temp_9am', y='relative_humidity_9am')\n",
    "df.select('air_temp_9am', 'relative_humidity_9am').toPandas().plot(kind='scatter', x='air_temp_9am', y='relative_humidity_9am')"
   ]
  },
  {
   "cell_type": "code",
   "execution_count": 7,
   "metadata": {
    "collapsed": false
   },
   "outputs": [
    {
     "data": {
      "text/plain": [
       "array([[<matplotlib.axes._subplots.AxesSubplot object at 0x2b9a0123e7b8>]], dtype=object)"
      ]
     },
     "execution_count": 7,
     "metadata": {},
     "output_type": "execute_result"
    },
    {
     "data": {
      "image/png": "[encoded data removed]",
      "text/plain": [
       "<matplotlib.figure.Figure at 0x2b9a01234a58>"
      ]
     },
     "metadata": {},
     "output_type": "display_data"
    }
   ],
   "source": [
    "# Histogram of wind speed\n",
    "\n",
    "df.select('max_wind_speed_9am').toPandas().hist()"
   ]
  },
  {
   "cell_type": "code",
   "execution_count": null,
   "metadata": {
    "collapsed": true
   },
   "outputs": [],
   "source": []
  }
 ],
 "metadata": {
  "kernelspec": {
   "display_name": "Python 3",
   "language": "python",
   "name": "python3"
  },
  "language_info": {
   "codemirror_mode": {
    "name": "ipython",
    "version": 3
   },
   "file_extension": ".py",
   "mimetype": "text/x-python",
   "name": "python",
   "nbconvert_exporter": "python",
   "pygments_lexer": "ipython3",
   "version": "3.5.0"
  }
 },
 "nbformat": 4,
 "nbformat_minor": 1
}
